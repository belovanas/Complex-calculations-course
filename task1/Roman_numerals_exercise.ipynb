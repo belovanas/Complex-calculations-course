{
 "cells": [
  {
   "cell_type": "markdown",
   "metadata": {},
   "source": [
    "# Roman numerals"
   ]
  },
  {
   "cell_type": "markdown",
   "metadata": {},
   "source": [
    "## I. Roman numerals to decimals\n",
    "\n",
    "Write a function which receives a Roman numeral written out as a string, and returns an integer representing the decimal form of the input number. "
   ]
  },
  {
   "cell_type": "code",
   "execution_count": 15,
   "metadata": {},
   "outputs": [],
   "source": [
    "mapping = {\"I\" : 1, \n",
    "           \"V\" : 5,\n",
    "           \"X\" : 10,\n",
    "           \"L\" : 50,\n",
    "           \"C\" : 100,\n",
    "           \"D\" : 500,\n",
    "           \"M\" : 1000}"
   ]
  },
  {
   "cell_type": "code",
   "execution_count": 16,
   "metadata": {},
   "outputs": [],
   "source": [
    "def roman_to_decimal(rom):\n",
    "    \"\"\"Convert a Roman numeral to decimal.\n",
    "    \n",
    "    Parameters\n",
    "    ----------\n",
    "    rom : str\n",
    "        A Roman numeral representing a positive integer.\n",
    "        \n",
    "    Returns\n",
    "    -------\n",
    "    dec : int\n",
    "        The result of conversion of `rom` into a decimal system.\n",
    "    \"\"\"\n",
    "    dec = mapping[rom[len(rom) - 1]]\n",
    "    for i in range(len(rom) - 1, 0, -1):\n",
    "        cur2 = mapping[rom[i]]\n",
    "        cur1 = mapping[rom[i - 1]]\n",
    "        if (cur1 >= cur2):\n",
    "            dec += cur1\n",
    "        else:\n",
    "            dec -= cur1\n",
    "    \n",
    "    \n",
    "    return dec"
   ]
  },
  {
   "cell_type": "markdown",
   "metadata": {},
   "source": [
    "Here are some tests for you to test your code. Your code must pass all of them. You also need to come up with several more tests (your choice)."
   ]
  },
  {
   "cell_type": "code",
   "execution_count": 17,
   "metadata": {},
   "outputs": [
    {
     "name": "stdout",
     "output_type": "stream",
     "text": [
      "True\n",
      "True\n",
      "True\n",
      "True\n",
      "True\n"
     ]
    }
   ],
   "source": [
    "test_pairs = [(\"IX\", 9), (\"XI\", 11), (\"MCCII\", 1202), (\"MMXVIII\", 2018), (\"XLIX\", 49)]\n",
    "\n",
    "for rom, dec in test_pairs:\n",
    "    converted = roman_to_decimal(rom)\n",
    "    print(converted == dec)"
   ]
  },
  {
   "cell_type": "markdown",
   "metadata": {},
   "source": [
    "Now you can run tests in file `tests_roman_to_decimal.txt`. You need to insert a number of false results and listed false results in respective fields in Google Form for this lesson."
   ]
  },
  {
   "cell_type": "code",
   "execution_count": 18,
   "metadata": {},
   "outputs": [
    {
     "name": "stdout",
     "output_type": "stream",
     "text": [
      "Number of false results: 7\n",
      "[('LXXXIV', 81), ('CDXXIX', 430), ('DCCXCVII', 799), ('MCCXLVIII', 1246), ('MCCLXX', 1273), ('MDCCX', 1708), ('MDCCXCI', 1790)]\n"
     ]
    }
   ],
   "source": [
    "p_roman = \"tests_roman_to_decimal.txt\"\n",
    "with open(p_roman, \"rb\") as fp_roman:\n",
    "    lines_roman=fp_roman.readlines()\n",
    "\n",
    "test_data_roman = [line.strip().decode(\"ascii\").split(',') for line in lines_roman]\n",
    "test_data_roman = [(line[0], int(line[1])) for line in test_data_roman]\n",
    "\n",
    "count_neg = 0\n",
    "false_results = []\n",
    "for rom, dec in test_data_roman:\n",
    "    converted = roman_to_decimal(rom)\n",
    "    if (converted != dec):\n",
    "        count_neg += 1\n",
    "        false_results.append((rom, dec))\n",
    "print('Number of false results:', count_neg)\n",
    "false_results.sort(key = lambda x: (x[1], x[0]))\n",
    "print(false_results)"
   ]
  },
  {
   "cell_type": "markdown",
   "metadata": {},
   "source": [
    "## II. Decimal numbers to roman numerals.\n",
    "\n",
    "The maximum grade for first task (Roman to decimal) is 7 on the 10-point HSE scale. For extra credit, complete the second task: *given a decimal number, convert it to the Roman form*."
   ]
  },
  {
   "cell_type": "code",
   "execution_count": 19,
   "metadata": {},
   "outputs": [],
   "source": [
    "def decimal_to_roman(dec):\n",
    "    \"\"\"Convert a decimal to the Roman form.\n",
    "    \n",
    "    Parameters\n",
    "    ----------\n",
    "    dec : int\n",
    "        A positive integer number\n",
    "    \n",
    "    Returns\n",
    "    -------\n",
    "    rom : str\n",
    "        A string representation of a Roman numeral form of `dec`.\n",
    "    \"\"\"\n",
    "    rom = ''\n",
    "    \n",
    "    nM = dec // 1000\n",
    "    rom += 'M' * nM\n",
    "    dec = dec % 1000\n",
    "    \n",
    "    if (dec >= 900):\n",
    "        rom += 'CM'\n",
    "        dec -= 900\n",
    "    \n",
    "    nD = dec // 500\n",
    "    rom += 'D' * nD\n",
    "    dec = dec % 500\n",
    "    \n",
    "    if (dec >= 400):\n",
    "        rom += 'CD'\n",
    "        dec -= 400\n",
    "    \n",
    "    nC = dec // 100\n",
    "    rom += 'C' * nC\n",
    "    dec = dec % 100\n",
    "    \n",
    "    if (dec >= 90):\n",
    "        rom += 'XC'\n",
    "        dec -= 90\n",
    "    \n",
    "    nL = dec // 50\n",
    "    rom += 'L' * nL\n",
    "    dec = dec % 50\n",
    "    \n",
    "    if (dec >= 40):\n",
    "        rom += 'XL'\n",
    "        dec -= 40\n",
    "    \n",
    "    nX = dec // 10\n",
    "    rom += 'X' * nX\n",
    "    dec = dec % 10\n",
    "    \n",
    "    if (dec == 9):\n",
    "        rom += 'IX'\n",
    "        dec -= 9\n",
    "    \n",
    "    \n",
    "    nV = dec // 5\n",
    "    rom += 'V' * nV\n",
    "    dec = dec % 5\n",
    "    \n",
    "    if (dec == 4):\n",
    "        rom += 'IV'\n",
    "        dec -= 4\n",
    "    \n",
    "    rom += 'I' * dec\n",
    "        \n",
    "    return rom"
   ]
  },
  {
   "cell_type": "code",
   "execution_count": 20,
   "metadata": {},
   "outputs": [
    {
     "name": "stdout",
     "output_type": "stream",
     "text": [
      "True\n",
      "True\n",
      "True\n",
      "True\n",
      "True\n",
      "True\n",
      "True\n",
      "True\n",
      "True\n"
     ]
    }
   ],
   "source": [
    "test_pairs = [(\"MM\", 2000), (\"IX\", 9), (\"XI\", 11), (\"MCCII\", 1202), (\"MMXVIII\", 2018), (\"XLIX\", 49), (\"XCIII\", 93), ('CDXLIX', 449), ('MMMCMXCIX', 3999)]\n",
    "\n",
    "for rom, dec in test_pairs:\n",
    "    converted = decimal_to_roman(dec)\n",
    "    print(converted == rom)"
   ]
  },
  {
   "cell_type": "markdown",
   "metadata": {},
   "source": [
    "You need to come up with test cases to show that your conversion works as expected. \n",
    "NB: the conversion is ambiguous in some cases. Any valid conversion is accepted. "
   ]
  },
  {
   "cell_type": "markdown",
   "metadata": {},
   "source": [
    "Now you can run tests in file `tests_decimal_to_roman.txt`. You need to insert a number of false results and listed false results in respective fields in Google Form for this lesson."
   ]
  },
  {
   "cell_type": "code",
   "execution_count": 21,
   "metadata": {},
   "outputs": [
    {
     "name": "stdout",
     "output_type": "stream",
     "text": [
      "Number of false results: 6\n",
      "[('CMLXXV', 978), ('MDCCCIII', 1804), ('MDCCCVIII', 1807), ('MDCCCXLIV', 1841), ('MDCCCLXXXVIII', 1886), ('MCMLXXVI', 1975)]\n"
     ]
    }
   ],
   "source": [
    "p_decimal = \"tests_decimal_to_roman.txt\"\n",
    "with open(p_decimal, \"rb\") as fp_decimal:\n",
    "    lines_decimal=fp_decimal.readlines()\n",
    "\n",
    "test_data_decimal = [line.strip().decode(\"ascii\").split(',') for line in lines_decimal]\n",
    "test_data_decimal = [(line[0], int(line[1])) for line in test_data_decimal]\n",
    "\n",
    "count_neg = 0\n",
    "false_results = []\n",
    "for rom, dec in test_data_decimal:\n",
    "    converted = decimal_to_roman(dec)\n",
    "    if (converted != rom):\n",
    "        count_neg += 1\n",
    "        false_results.append((rom, dec))\n",
    "print('Number of false results:', count_neg)\n",
    "false_results.sort(key = lambda x: (x[1], x[0]))\n",
    "print(false_results)"
   ]
  }
 ],
 "metadata": {
  "kernelspec": {
   "display_name": "Python 3",
   "language": "python",
   "name": "python3"
  },
  "language_info": {
   "codemirror_mode": {
    "name": "ipython",
    "version": 3
   },
   "file_extension": ".py",
   "mimetype": "text/x-python",
   "name": "python",
   "nbconvert_exporter": "python",
   "pygments_lexer": "ipython3",
   "version": "3.7.1"
  }
 },
 "nbformat": 4,
 "nbformat_minor": 2
}
